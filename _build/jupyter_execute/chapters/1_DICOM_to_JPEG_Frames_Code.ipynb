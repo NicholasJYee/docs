{
 "cells": [
  {
   "cell_type": "markdown",
   "id": "2b3d7d7c",
   "metadata": {},
   "source": [
    "# Saving individual ultrasound frames "
   ]
  },
  {
   "cell_type": "markdown",
   "id": "b712156c",
   "metadata": {},
   "source": [
    "\n",
    "This notebook provides a comprehensive explanation of the Python code designed to convert DICOM (Digital Imaging and Communications in Medicine) files to JPEG format. The script is particularly useful for medical image processing tasks.\n"
   ]
  },
  {
   "cell_type": "markdown",
   "id": "ce0032ae",
   "metadata": {},
   "source": [
    "# Code Explanation"
   ]
  },
  {
   "cell_type": "markdown",
   "id": "c8460c5e7e3fa10f",
   "metadata": {
    "collapsed": false
   },
   "source": [
    "### Libraries Used\n",
    "\n",
    "1. `pydicom`: For reading DICOM files.\n",
    "2. `os`: For directory and file operations.\n",
    "3. `numpy`: For numerical operations.\n",
    "4. `PIL (Pillow)`: For image processing.\n",
    "5. `InvalidDicomError`: Exception handling for invalid DICOM files.\n",
    "\n",
    "### Function: `convert_and_save_frames_to_jpeg`\n",
    "\n",
    "- **Input Parameters**: `file_path` (location of the DICOM file), `output_directory` (directory where JPEGs will be saved).\n",
    "- **Output**: JPEG files saved in `output_directory`.\n",
    "\n",
    "#### Steps:\n",
    "\n",
    "1. **Reading DICOM File**: Uses `pydicom.dcmread()` to read the DICOM file.\n",
    "2. **Exception Handling**: Checks for invalid DICOM files and skips them.\n",
    "3. **Extracting Pixel Array**: Accesses the `pixel_array` attribute of the DICOM file.\n",
    "4. **Handling Multiple Frames**: If the DICOM file has multiple frames, it extracts them all.\n",
    "5. **Frame Conversion and Saving**: Iterates through frames, normalizes them, and saves them as JPEGs.\n",
    "\n",
    "### Directory Operations\n",
    "\n",
    "- **Input and Output Directories**: `directory_path` and `output_directory` are defined for source and destination respectively.\n",
    "- **Directory Creation**: Ensures the output directory exists.\n",
    "\n",
    "### File Iteration and Conversion\n",
    "\n",
    "- **Iterates through all files**: In the input directory and calls `convert_and_save_frames_to_jpeg` for each.\n",
    "- **Output Message**: A message is printed indicating where the converted JPEGs have been saved.\n"
   ]
  },
  {
   "cell_type": "markdown",
   "id": "b0b288f07d78ef7b",
   "metadata": {
    "collapsed": false
   },
   "source": [
    "```python\n",
    "import pydicom\n",
    "import os\n",
    "import numpy as np\n",
    "from PIL import Image\n",
    "from pydicom.errors import InvalidDicomError\n",
    "\n",
    "def convert_and_save_frames_to_jpeg(file_path, output_directory):\n",
    "    try:\n",
    "        dicom_file = pydicom.dcmread(file_path)\n",
    "    except InvalidDicomError:\n",
    "        return  # Skip this file if it's not a valid DICOM file\n",
    "\n",
    "    pixel_array = dicom_file.pixel_array\n",
    "\n",
    "    if 'NumberOfFrames' in dicom_file and int(dicom_file.NumberOfFrames) > 1:\n",
    "        frames = [pixel_array[frame_index] for frame_index in range(int(dicom_file.NumberOfFrames))]\n",
    "    else:\n",
    "        frames = [pixel_array]\n",
    "\n",
    "    for frame_index, frame in enumerate(frames):\n",
    "        if frame.ndim > 2:\n",
    "            frame = frame[:, :, 0]\n",
    "\n",
    "        frame_normalized = (np.maximum(frame, 0) / frame.max()) * 255.0\n",
    "        frame_uint8 = np.uint8(frame_normalized)\n",
    "\n",
    "        image = Image.fromarray(frame_uint8, 'L')\n",
    "        output_file_path = os.path.join(output_directory, f'{os.path.basename(file_path)}{frame_index+1:04}.jpeg')\n",
    "\n",
    "        image.save(output_file_path)\n",
    "\n",
    "# Define the input and output directories\n",
    "directory_path = './data/philipsepiq7g_c5-1/0all/full_dicom'  # Replace with the actual directory path\n",
    "output_directory = './data/philipsepiq7g_c5-1/0all/frames'  # Replace with the desired output directory\n",
    "\n",
    "# Create the output directory if it doesn't exist\n",
    "os.makedirs(output_directory, exist_ok=True)\n",
    "\n",
    "# Iterate through all files in the directory\n",
    "for file_name in os.listdir(directory_path):\n",
    "    file_path = os.path.join(directory_path, file_name)\n",
    "    if os.path.isfile(file_path):\n",
    "        convert_and_save_frames_to_jpeg(file_path, output_directory)\n",
    "\n",
    "print(f'Frames have been converted to JPEG and saved in {output_directory}')\n",
    "```"
   ]
  },
  {
   "cell_type": "markdown",
   "id": "5535dc49",
   "metadata": {},
   "source": [
    "# Conclusion"
   ]
  },
  {
   "cell_type": "markdown",
   "id": "d1d89151",
   "metadata": {},
   "source": [
    "\n",
    "This notebook has elucidated the functionalities and operations of the provided Python code. The script is a comprehensive solution for converting DICOM files to JPEG format, which is essential for medical image processing tasks.\n"
   ]
  }
 ],
 "metadata": {
  "kernelspec": {
   "display_name": "Python 3 (ipykernel)",
   "language": "python",
   "name": "python3"
  },
  "language_info": {
   "codemirror_mode": {
    "name": "ipython",
    "version": 3
   },
   "file_extension": ".py",
   "mimetype": "text/x-python",
   "name": "python",
   "nbconvert_exporter": "python",
   "pygments_lexer": "ipython3",
   "version": "3.11.5"
  }
 },
 "nbformat": 4,
 "nbformat_minor": 5
}