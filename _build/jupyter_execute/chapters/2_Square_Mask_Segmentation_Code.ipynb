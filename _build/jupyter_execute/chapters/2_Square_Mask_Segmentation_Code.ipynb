{
 "cells": [
  {
   "cell_type": "markdown",
   "id": "afd5a99a",
   "metadata": {},
   "source": [
    "# Introduction"
   ]
  },
  {
   "cell_type": "markdown",
   "id": "3c1e409e",
   "metadata": {},
   "source": [
    "\n",
    "This notebook provides a detailed explanation of the Python code designed for applying a square mask to a set of images. This process can be particularly useful in medical image segmentation.\n"
   ]
  },
  {
   "cell_type": "markdown",
   "id": "74286257",
   "metadata": {},
   "source": [
    "# Code Explanation"
   ]
  },
  {
   "cell_type": "markdown",
   "id": "779d3d6d",
   "metadata": {},
   "source": [
    "\n",
    "### Libraries Used\n",
    "\n",
    "1. `os`: For directory and file operations.\n",
    "2. `numpy`: For numerical operations.\n",
    "3. `PIL (Pillow)`: For image processing.\n",
    "4. `matplotlib.pyplot`: For plotting (not used in the code but imported).\n",
    "\n",
    "### Function: `apply_square_mask`\n",
    "\n",
    "- **Input Parameters**: \n",
    "  - `image_path` (Path to the image file)\n",
    "  - `output_directory` (Directory to save the masked image)\n",
    "  - `square_corners` (Coordinates of the corners of the square mask)\n",
    "  \n",
    "- **Output**: A masked image saved in `output_directory`.\n",
    "\n",
    "#### Steps:\n",
    "\n",
    "1. **Reading Image**: Uses `Image.open()` to read the image.\n",
    "2. **Creating Mask**: An empty mask of zeros is created with the same shape as the image.\n",
    "3. **Applying Mask**: The mask is filled with ones at the square region specified by `square_corners`.\n",
    "4. **Masking Image**: The mask is applied to the image.\n",
    "5. **Saving Masked Image**: The masked image is saved in `output_directory`.\n",
    "\n",
    "### Directory Operations\n",
    "\n",
    "- **Input and Output Directories**: `input_directory` and `output_directory` are defined.\n",
    "- **Directory Creation**: Ensures the output directory exists.\n",
    "\n",
    "### File Iteration and Masking\n",
    "\n",
    "- **Iterates through JPEG files**: In `input_directory` and calls `apply_square_mask` for each.\n",
    "- **Output Message**: A message is printed indicating where the masked images have been saved.\n"
   ]
  },
  {
   "cell_type": "code",
   "execution_count": 1,
   "id": "afe1f533dd58dc81",
   "metadata": {
    "ExecuteTime": {
     "end_time": "2023-09-01T16:06:58.268135Z",
     "start_time": "2023-09-01T16:06:58.251810Z"
    },
    "collapsed": false
   },
   "outputs": [
    {
     "ename": "FileNotFoundError",
     "evalue": "[Errno 2] No such file or directory: './data/philipsepiq7g_c5-1/0all/frames'",
     "output_type": "error",
     "traceback": [
      "\u001b[0;31m---------------------------------------------------------------------------\u001b[0m",
      "\u001b[0;31mFileNotFoundError\u001b[0m                         Traceback (most recent call last)",
      "Cell \u001b[0;32mIn[1], line 44\u001b[0m\n\u001b[1;32m     41\u001b[0m square_corners \u001b[38;5;241m=\u001b[39m [(\u001b[38;5;241m227\u001b[39m, \u001b[38;5;241m173\u001b[39m), (\u001b[38;5;241m564\u001b[39m, \u001b[38;5;241m173\u001b[39m), (\u001b[38;5;241m564\u001b[39m, \u001b[38;5;241m510\u001b[39m), (\u001b[38;5;241m227\u001b[39m, \u001b[38;5;241m510\u001b[39m)]\n\u001b[1;32m     43\u001b[0m \u001b[38;5;66;03m# Iterate through all JPEG files in the directory and apply the mask\u001b[39;00m\n\u001b[0;32m---> 44\u001b[0m \u001b[38;5;28;01mfor\u001b[39;00m file_name \u001b[38;5;129;01min\u001b[39;00m \u001b[43mos\u001b[49m\u001b[38;5;241;43m.\u001b[39;49m\u001b[43mlistdir\u001b[49m\u001b[43m(\u001b[49m\u001b[43minput_directory\u001b[49m\u001b[43m)\u001b[49m:\n\u001b[1;32m     45\u001b[0m     \u001b[38;5;28;01mif\u001b[39;00m file_name\u001b[38;5;241m.\u001b[39mlower()\u001b[38;5;241m.\u001b[39mendswith(\u001b[38;5;124m'\u001b[39m\u001b[38;5;124m.jpeg\u001b[39m\u001b[38;5;124m'\u001b[39m):\n\u001b[1;32m     46\u001b[0m         file_path \u001b[38;5;241m=\u001b[39m os\u001b[38;5;241m.\u001b[39mpath\u001b[38;5;241m.\u001b[39mjoin(input_directory, file_name)\n",
      "\u001b[0;31mFileNotFoundError\u001b[0m: [Errno 2] No such file or directory: './data/philipsepiq7g_c5-1/0all/frames'"
     ]
    }
   ],
   "source": [
    "import os\n",
    "import numpy as np\n",
    "from PIL import Image\n",
    "import matplotlib.pyplot as plt\n",
    "\n",
    "# Function to apply square mask on an image\n",
    "def apply_square_mask(image_path, output_directory, square_corners):\n",
    "    # Read the image\n",
    "    image = Image.open(image_path)\n",
    "    image_array = np.array(image)\n",
    "    \n",
    "    # Create an empty mask of the same size as the image\n",
    "    mask = np.zeros(image_array.shape[:2], dtype=np.uint8)\n",
    "    \n",
    "    # Fill the square region in the mask\n",
    "    x1, y1 = square_corners[0]\n",
    "    x2, y2 = square_corners[2]\n",
    "    mask[y1:y2, x1:x2] = 1\n",
    "    \n",
    "    # Check if the image is grayscale or color\n",
    "    if len(image_array.shape) == 2:\n",
    "        segmented_image_array = image_array * mask\n",
    "    else:\n",
    "        segmented_image_array = image_array * np.expand_dims(mask, axis=2)\n",
    "    \n",
    "    # Convert the segmented image array back to an image\n",
    "    segmented_image = Image.fromarray(np.uint8(segmented_image_array))\n",
    "    \n",
    "    # Save the segmented image in the output directory\n",
    "    output_path = os.path.join(output_directory, os.path.basename(image_path))\n",
    "    segmented_image.save(output_path)\n",
    "\n",
    "# Define the input and output directories\n",
    "input_directory = './data/philipsepiq7g_c5-1/0all/frames'\n",
    "output_directory = './data/philipsepiq7g_c5-1/0all/segmented_frames'\n",
    "\n",
    "# Create the output directory if it doesn't exist\n",
    "os.makedirs(output_directory, exist_ok=True)\n",
    "\n",
    "# Define the square corners\n",
    "square_corners = [(227, 173), (564, 173), (564, 510), (227, 510)]\n",
    "\n",
    "# Iterate through all JPEG files in the directory and apply the mask\n",
    "for file_name in os.listdir(input_directory):\n",
    "    if file_name.lower().endswith('.jpeg'):\n",
    "        file_path = os.path.join(input_directory, file_name)\n",
    "        apply_square_mask(file_path, output_directory, square_corners)\n",
    "\n",
    "print(f'Segmented images have been saved in {output_directory}')\n",
    "print(\"Hi\")"
   ]
  },
  {
   "cell_type": "markdown",
   "id": "14a1432c",
   "metadata": {},
   "source": [
    "# Conclusion"
   ]
  },
  {
   "cell_type": "markdown",
   "id": "7e3a5170",
   "metadata": {},
   "source": [
    "\n",
    "This notebook elucidates the functionalities and operations of the provided Python code for applying a square mask to images. The script is a utilitarian approach to segmenting regions of interest in images, which is a fundamental step in various image analysis tasks.\n"
   ]
  }
 ],
 "metadata": {
  "kernelspec": {
   "display_name": "Python 3 (ipykernel)",
   "language": "python",
   "name": "python3"
  },
  "language_info": {
   "codemirror_mode": {
    "name": "ipython",
    "version": 3
   },
   "file_extension": ".py",
   "mimetype": "text/x-python",
   "name": "python",
   "nbconvert_exporter": "python",
   "pygments_lexer": "ipython3",
   "version": "3.11.5"
  }
 },
 "nbformat": 4,
 "nbformat_minor": 5
}