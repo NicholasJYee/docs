{
 "cells": [
  {
   "cell_type": "markdown",
   "id": "afd5a99a",
   "metadata": {},
   "source": [
    "# Introduction"
   ]
  },
  {
   "cell_type": "markdown",
   "id": "3c1e409e",
   "metadata": {},
   "source": [
    "\n",
    "This notebook provides a detailed explanation of the Python code designed for applying a square mask to a set of images. This process can be particularly useful in medical image segmentation.\n"
   ]
  },
  {
   "cell_type": "markdown",
   "id": "74286257",
   "metadata": {},
   "source": [
    "# Code Explanation"
   ]
  },
  {
   "cell_type": "markdown",
   "id": "779d3d6d",
   "metadata": {},
   "source": [
    "\n",
    "### Libraries Used\n",
    "\n",
    "1. `os`: For directory and file operations.\n",
    "2. `numpy`: For numerical operations.\n",
    "3. `PIL (Pillow)`: For image processing.\n",
    "4. `matplotlib.pyplot`: For plotting (not used in the code but imported).\n",
    "\n",
    "### Function: `apply_square_mask`\n",
    "\n",
    "- **Input Parameters**: \n",
    "  - `image_path` (Path to the image file)\n",
    "  - `output_directory` (Directory to save the masked image)\n",
    "  - `square_corners` (Coordinates of the corners of the square mask)\n",
    "  \n",
    "- **Output**: A masked image saved in `output_directory`.\n",
    "\n",
    "#### Steps:\n",
    "\n",
    "1. **Reading Image**: Uses `Image.open()` to read the image.\n",
    "2. **Creating Mask**: An empty mask of zeros is created with the same shape as the image.\n",
    "3. **Applying Mask**: The mask is filled with ones at the square region specified by `square_corners`.\n",
    "4. **Masking Image**: The mask is applied to the image.\n",
    "5. **Saving Masked Image**: The masked image is saved in `output_directory`.\n",
    "\n",
    "### Directory Operations\n",
    "\n",
    "- **Input and Output Directories**: `input_directory` and `output_directory` are defined.\n",
    "- **Directory Creation**: Ensures the output directory exists.\n",
    "\n",
    "### File Iteration and Masking\n",
    "\n",
    "- **Iterates through JPEG files**: In `input_directory` and calls `apply_square_mask` for each.\n",
    "- **Output Message**: A message is printed indicating where the masked images have been saved.\n"
   ]
  },
  {
   "cell_type": "markdown",
   "id": "4a4a1e7f",
   "metadata": {},
   "source": [
    "```python\n",
    "import os\n",
    "import numpy as np\n",
    "from PIL import Image\n",
    "import matplotlib.pyplot as plt\n",
    "\n",
    "# Function to apply square mask on an image\n",
    "def apply_square_mask(image_path, output_directory, square_corners):\n",
    "    # Read the image\n",
    "    image = Image.open(image_path)\n",
    "    image_array = np.array(image)\n",
    "    \n",
    "    # Create an empty mask of the same size as the image\n",
    "    mask = np.zeros(image_array.shape[:2], dtype=np.uint8)\n",
    "    \n",
    "    # Fill the square region in the mask\n",
    "    x1, y1 = square_corners[0]\n",
    "    x2, y2 = square_corners[2]\n",
    "    mask[y1:y2, x1:x2] = 1\n",
    "    \n",
    "    # Check if the image is grayscale or color\n",
    "    if len(image_array.shape) == 2:\n",
    "        segmented_image_array = image_array * mask\n",
    "    else:\n",
    "        segmented_image_array = image_array * np.expand_dims(mask, axis=2)\n",
    "    \n",
    "    # Convert the segmented image array back to an image\n",
    "    segmented_image = Image.fromarray(np.uint8(segmented_image_array))\n",
    "    \n",
    "    # Save the segmented image in the output directory\n",
    "    output_path = os.path.join(output_directory, os.path.basename(image_path))\n",
    "    segmented_image.save(output_path)\n",
    "\n",
    "# Define the input and output directories\n",
    "input_directory = './data/philipsepiq7g_c5-1/0all/frames'\n",
    "output_directory = './data/philipsepiq7g_c5-1/0all/segmented_frames'\n",
    "\n",
    "# Create the output directory if it doesn't exist\n",
    "os.makedirs(output_directory, exist_ok=True)\n",
    "\n",
    "# Define the square corners\n",
    "square_corners = [(227, 173), (564, 173), (564, 510), (227, 510)]\n",
    "\n",
    "# Iterate through all JPEG files in the directory and apply the mask\n",
    "for file_name in os.listdir(input_directory):\n",
    "    if file_name.lower().endswith('.jpeg'):\n",
    "        file_path = os.path.join(input_directory, file_name)\n",
    "        apply_square_mask(file_path, output_directory, square_corners)\n",
    "\n",
    "print(f'Segmented images have been saved in {output_directory}')\n",
    "\n",
    "```"
   ]
  },
  {
   "cell_type": "markdown",
   "id": "14a1432c",
   "metadata": {},
   "source": [
    "# Conclusion"
   ]
  },
  {
   "cell_type": "markdown",
   "id": "7e3a5170",
   "metadata": {},
   "source": [
    "\n",
    "This notebook elucidates the functionalities and operations of the provided Python code for applying a square mask to images. The script is a utilitarian approach to segmenting regions of interest in images, which is a fundamental step in various image analysis tasks.\n"
   ]
  }
 ],
 "metadata": {
  "language_info": {
   "codemirror_mode": {
    "name": "ipython",
    "version": 3
   },
   "file_extension": ".py",
   "mimetype": "text/x-python",
   "name": "python",
   "nbconvert_exporter": "python",
   "pygments_lexer": "ipython3",
   "version": "3.11.5"
  }
 },
 "nbformat": 4,
 "nbformat_minor": 5
}